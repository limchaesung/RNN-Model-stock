{
 "cells": [
  {
   "cell_type": "markdown",
   "id": "c553ad3e",
   "metadata": {},
   "source": [
    "■ **Samsung_Electronics.csv** 파일을 load한 후,  **Close** 열만 추출하여, **7:3으로 training과 test data를 분리**하고, **과거 5일 데이터값으로 다음 날 주식값을 예측**하는 **RNN model**을 학습하고, 하나의 차트에 **실제 주식값, training data와 test data의 예측 값을 서로 다른 색상으로 나타내시오.** <br><br>\n",
    "■ <strong><font color='red' style='bold'>주석을 이용하여 각 과정의 역할과 변수의 의미를 상세히 서술하시오.</font></strong>"
   ]
  },
  {
   "cell_type": "code",
   "execution_count": 1,
   "id": "d509d804",
   "metadata": {},
   "outputs": [
    {
     "name": "stdout",
     "output_type": "stream",
     "text": [
      "WARNING:tensorflow:From C:\\ProgramData\\anaconda3\\Lib\\site-packages\\keras\\src\\losses.py:2976: The name tf.losses.sparse_softmax_cross_entropy is deprecated. Please use tf.compat.v1.losses.sparse_softmax_cross_entropy instead.\n",
      "\n"
     ]
    }
   ],
   "source": [
    "import numpy as np\n",
    "import pandas as pd\n",
    "import matplotlib.pyplot as plt\n",
    "\n",
    "from tensorflow.keras.models import Sequential\n",
    "from tensorflow.keras.layers import Dense, SimpleRNN\n",
    "\n",
    "# 필요 모듈 설치 과정\n",
    "# RNN Model 학습 과정에서 필요한 모듈 설치\n",
    "# 결과 차트 출력을 위한 모듈 설치"
   ]
  },
  {
   "cell_type": "code",
   "execution_count": 3,
   "id": "8a5a952e",
   "metadata": {},
   "outputs": [
    {
     "data": {
      "text/html": [
       "<div>\n",
       "<style scoped>\n",
       "    .dataframe tbody tr th:only-of-type {\n",
       "        vertical-align: middle;\n",
       "    }\n",
       "\n",
       "    .dataframe tbody tr th {\n",
       "        vertical-align: top;\n",
       "    }\n",
       "\n",
       "    .dataframe thead th {\n",
       "        text-align: right;\n",
       "    }\n",
       "</style>\n",
       "<table border=\"1\" class=\"dataframe\">\n",
       "  <thead>\n",
       "    <tr style=\"text-align: right;\">\n",
       "      <th></th>\n",
       "      <th>Date</th>\n",
       "      <th>Open</th>\n",
       "      <th>High</th>\n",
       "      <th>Low</th>\n",
       "      <th>Close</th>\n",
       "      <th>Adj Close</th>\n",
       "      <th>Volume</th>\n",
       "    </tr>\n",
       "  </thead>\n",
       "  <tbody>\n",
       "    <tr>\n",
       "      <th>0</th>\n",
       "      <td>2020-12-02</td>\n",
       "      <td>68400</td>\n",
       "      <td>69900</td>\n",
       "      <td>68300</td>\n",
       "      <td>69500</td>\n",
       "      <td>66878.50000</td>\n",
       "      <td>29703942</td>\n",
       "    </tr>\n",
       "    <tr>\n",
       "      <th>1</th>\n",
       "      <td>2020-12-03</td>\n",
       "      <td>70100</td>\n",
       "      <td>70500</td>\n",
       "      <td>69300</td>\n",
       "      <td>69700</td>\n",
       "      <td>67070.95313</td>\n",
       "      <td>23677989</td>\n",
       "    </tr>\n",
       "    <tr>\n",
       "      <th>2</th>\n",
       "      <td>2020-12-04</td>\n",
       "      <td>70400</td>\n",
       "      <td>72100</td>\n",
       "      <td>70100</td>\n",
       "      <td>71500</td>\n",
       "      <td>68803.05469</td>\n",
       "      <td>28130533</td>\n",
       "    </tr>\n",
       "    <tr>\n",
       "      <th>3</th>\n",
       "      <td>2020-12-07</td>\n",
       "      <td>72400</td>\n",
       "      <td>73500</td>\n",
       "      <td>71900</td>\n",
       "      <td>72900</td>\n",
       "      <td>70150.25000</td>\n",
       "      <td>28490496</td>\n",
       "    </tr>\n",
       "    <tr>\n",
       "      <th>4</th>\n",
       "      <td>2020-12-08</td>\n",
       "      <td>72200</td>\n",
       "      <td>72900</td>\n",
       "      <td>71600</td>\n",
       "      <td>71700</td>\n",
       "      <td>68995.50781</td>\n",
       "      <td>25000338</td>\n",
       "    </tr>\n",
       "  </tbody>\n",
       "</table>\n",
       "</div>"
      ],
      "text/plain": [
       "         Date   Open   High    Low  Close    Adj Close    Volume\n",
       "0  2020-12-02  68400  69900  68300  69500  66878.50000  29703942\n",
       "1  2020-12-03  70100  70500  69300  69700  67070.95313  23677989\n",
       "2  2020-12-04  70400  72100  70100  71500  68803.05469  28130533\n",
       "3  2020-12-07  72400  73500  71900  72900  70150.25000  28490496\n",
       "4  2020-12-08  72200  72900  71600  71700  68995.50781  25000338"
      ]
     },
     "execution_count": 3,
     "metadata": {},
     "output_type": "execute_result"
    }
   ],
   "source": [
    "# csv 데이터셋 stock 변수에 저장 및 load\n",
    "dataset = pd.read_csv('Samsung_Electronics.csv')\n",
    "stock = dataset.values\n",
    "dataset.head(5)"
   ]
  },
  {
   "cell_type": "code",
   "execution_count": 4,
   "id": "f284995f",
   "metadata": {},
   "outputs": [
    {
     "name": "stdout",
     "output_type": "stream",
     "text": [
      "[[69500]\n",
      " [69700]\n",
      " [71500]\n",
      " [72900]\n",
      " [71700]\n",
      " [73900]\n",
      " [72900]\n",
      " [73400]\n",
      " [73800]\n",
      " [73800]\n",
      " [73800]\n",
      " [73300]\n",
      " [73000]\n",
      " [73000]\n",
      " [72300]\n",
      " [73900]\n",
      " [77800]\n",
      " [78700]\n",
      " [78300]\n",
      " [81000]\n",
      " [83000]\n",
      " [83900]\n",
      " [82200]\n",
      " [82900]\n",
      " [88800]\n",
      " [91000]\n",
      " [90600]\n",
      " [89700]\n",
      " [89700]\n",
      " [88000]\n",
      " [85000]\n",
      " [87000]\n",
      " [87200]\n",
      " [88100]\n",
      " [86800]\n",
      " [89400]\n",
      " [86700]\n",
      " [85600]\n",
      " [83700]\n",
      " [82000]\n",
      " [83000]\n",
      " [84400]\n",
      " [84600]\n",
      " [82500]\n",
      " [83500]\n",
      " [83000]\n",
      " [82700]\n",
      " [81600]\n",
      " [84200]\n",
      " [84900]\n",
      " [83200]\n",
      " [82100]\n",
      " [82600]\n",
      " [82200]\n",
      " [82000]\n",
      " [82000]\n",
      " [85300]\n",
      " [82500]\n",
      " [83600]\n",
      " [84000]\n",
      " [82400]\n",
      " [82100]\n",
      " [82000]\n",
      " [81400]\n",
      " [80900]\n",
      " [82000]\n",
      " [82800]\n",
      " [81800]\n",
      " [82800]\n",
      " [82300]\n",
      " [82900]\n",
      " [81900]\n",
      " [82000]\n",
      " [81800]\n",
      " [81000]\n",
      " [81200]\n",
      " [81500]\n",
      " [81600]\n",
      " [82200]\n",
      " [81400]\n",
      " [82900]\n",
      " [84800]\n",
      " [85400]\n",
      " [86000]\n",
      " [85600]\n",
      " [84700]\n",
      " [83600]\n",
      " [83200]\n",
      " [84000]\n",
      " [84000]\n",
      " [84100]\n",
      " [83900]\n",
      " [83300]\n",
      " [83900]\n",
      " [82600]\n",
      " [82400]\n",
      " [82800]\n",
      " [83500]\n",
      " [82900]\n",
      " [82100]\n",
      " [81700]\n",
      " [81500]\n",
      " [81700]\n",
      " [82600]\n",
      " [82300]\n",
      " [81900]\n",
      " [83200]\n",
      " [81200]\n",
      " [80000]\n",
      " [78500]\n",
      " [80100]\n",
      " [79600]\n",
      " [79600]\n",
      " [79500]\n",
      " [80100]\n",
      " [79700]\n",
      " [79900]\n",
      " [79800]\n",
      " [79600]\n",
      " [80100]\n",
      " [80500]\n",
      " [80600]\n",
      " [80800]\n",
      " [82800]\n",
      " [82200]\n",
      " [81900]\n",
      " [81900]\n",
      " [81100]\n",
      " [81000]\n",
      " [81000]\n",
      " [80500]\n",
      " [80900]\n",
      " [81800]\n",
      " [80900]\n",
      " [80500]\n",
      " [79900]\n",
      " [80000]\n",
      " [80100]\n",
      " [81200]\n",
      " [81600]\n",
      " [81900]\n",
      " [81000]\n",
      " [80700]\n",
      " [80100]\n",
      " [80000]\n",
      " [80400]\n",
      " [81200]\n",
      " [80800]\n",
      " [79900]\n",
      " [79400]\n",
      " [79700]\n",
      " [79800]\n",
      " [79500]\n",
      " [80600]\n",
      " [79800]\n",
      " [79000]\n",
      " [79000]\n",
      " [78500]\n",
      " [79700]\n",
      " [79300]\n",
      " [78800]\n",
      " [78500]\n",
      " [79200]\n",
      " [79000]\n",
      " [78500]\n",
      " [79300]\n",
      " [81400]\n",
      " [82900]\n",
      " [82100]\n",
      " [81500]\n",
      " [81500]\n",
      " [80200]\n",
      " [78500]\n",
      " [77000]\n",
      " [74400]\n",
      " [74200]\n",
      " [73900]\n",
      " [73100]\n",
      " [72700]\n",
      " [73300]\n",
      " [75600]\n",
      " [75700]\n",
      " [74600]\n",
      " [74300]\n",
      " [74600]\n",
      " [76700]\n",
      " [76800]\n",
      " [76000]\n",
      " [76600]\n",
      " [77300]\n",
      " [76100]\n",
      " [76300]\n",
      " [75300]\n",
      " [75300]\n",
      " [76300]\n",
      " [76600]\n",
      " [77000]\n",
      " [76100]\n",
      " [77200]\n",
      " [77400]\n",
      " [77300]\n",
      " [77700]\n",
      " [76300]\n",
      " [74100]\n",
      " [74100]\n",
      " [73200]\n",
      " [72200]\n",
      " [71300]\n",
      " [71600]\n",
      " [71500]\n",
      " [69000]\n",
      " [68800]\n",
      " [69400]\n",
      " [70100]\n",
      " [70200]\n",
      " [70600]\n",
      " [70300]\n",
      " [70200]\n",
      " [70400]\n",
      " [70200]\n",
      " [71100]\n",
      " [70100]\n",
      " [70700]\n",
      " [69800]\n",
      " [69900]\n",
      " [71500]\n",
      " [70400]\n",
      " [70600]\n",
      " [70200]\n",
      " [70600]\n",
      " [70500]\n",
      " [70200]\n",
      " [69900]\n",
      " [70600]\n",
      " [71400]\n",
      " [71300]\n",
      " [70700]\n",
      " [70200]\n",
      " [71200]\n",
      " [74900]\n",
      " [75300]\n",
      " [74800]\n",
      " [73700]\n",
      " [72300]\n",
      " [72300]\n",
      " [71300]\n",
      " [74400]\n",
      " [75800]]\n"
     ]
    }
   ],
   "source": [
    "# 데이터셋에서 close 열만 추출\n",
    "pos = stock[:,4:5]\n",
    "print(pos)"
   ]
  },
  {
   "cell_type": "code",
   "execution_count": 5,
   "id": "c03aefb0",
   "metadata": {},
   "outputs": [],
   "source": [
    "# 7:3 training, test data 분리\n",
    "from sklearn.model_selection import train_test_split\n",
    "train_pos,test_pos = train_test_split(pos,test_size=0.3,shuffle=False)\n",
    "# train_test_split의 shuffle parameter를 False로 지정"
   ]
  },
  {
   "cell_type": "code",
   "execution_count": 6,
   "id": "d12b9718",
   "metadata": {},
   "outputs": [
    {
     "name": "stdout",
     "output_type": "stream",
     "text": [
      "(173, 1) (75, 1)\n"
     ]
    }
   ],
   "source": [
    "print(train_pos.shape, test_pos.shape)"
   ]
  },
  {
   "cell_type": "code",
   "execution_count": 7,
   "id": "907a7d73",
   "metadata": {},
   "outputs": [],
   "source": [
    "from sklearn.preprocessing import MinMaxScaler\n",
    "sc = MinMaxScaler(feature_range=(0,1))\n",
    "sc.fit(train_pos)\n",
    "train_pos_sc = sc.transform(train_pos)\n",
    "# training data 중 최소값, 최대값을 각각 0과 1로 지정한 후, 비율에 따라 값을 정함\n",
    "# test data의 값은 training data 이후의 값이다.\n",
    "# 하지만 지속적으로 증가하는 값은 아니다."
   ]
  },
  {
   "cell_type": "code",
   "execution_count": 8,
   "id": "275ea928",
   "metadata": {},
   "outputs": [
    {
     "name": "stdout",
     "output_type": "stream",
     "text": [
      "[[0.        ]\n",
      " [0.00930233]\n",
      " [0.09302326]\n",
      " [0.15813953]\n",
      " [0.10232558]\n",
      " [0.20465116]\n",
      " [0.15813953]\n",
      " [0.18139535]\n",
      " [0.2       ]\n",
      " [0.2       ]\n",
      " [0.2       ]\n",
      " [0.17674419]\n",
      " [0.1627907 ]\n",
      " [0.1627907 ]\n",
      " [0.13023256]\n",
      " [0.20465116]\n",
      " [0.38604651]\n",
      " [0.42790698]\n",
      " [0.40930233]\n",
      " [0.53488372]\n",
      " [0.62790698]\n",
      " [0.66976744]\n",
      " [0.59069767]\n",
      " [0.62325581]\n",
      " [0.89767442]\n",
      " [1.        ]\n",
      " [0.98139535]\n",
      " [0.93953488]\n",
      " [0.93953488]\n",
      " [0.86046512]\n",
      " [0.72093023]\n",
      " [0.81395349]\n",
      " [0.82325581]\n",
      " [0.86511628]\n",
      " [0.80465116]\n",
      " [0.9255814 ]\n",
      " [0.8       ]\n",
      " [0.74883721]\n",
      " [0.66046512]\n",
      " [0.58139535]\n",
      " [0.62790698]\n",
      " [0.69302326]\n",
      " [0.70232558]\n",
      " [0.60465116]\n",
      " [0.65116279]\n",
      " [0.62790698]\n",
      " [0.61395349]\n",
      " [0.5627907 ]\n",
      " [0.68372093]\n",
      " [0.71627907]\n",
      " [0.6372093 ]\n",
      " [0.58604651]\n",
      " [0.60930233]\n",
      " [0.59069767]\n",
      " [0.58139535]\n",
      " [0.58139535]\n",
      " [0.73488372]\n",
      " [0.60465116]\n",
      " [0.65581395]\n",
      " [0.6744186 ]\n",
      " [0.6       ]\n",
      " [0.58604651]\n",
      " [0.58139535]\n",
      " [0.55348837]\n",
      " [0.53023256]\n",
      " [0.58139535]\n",
      " [0.61860465]\n",
      " [0.57209302]\n",
      " [0.61860465]\n",
      " [0.59534884]\n",
      " [0.62325581]\n",
      " [0.57674419]\n",
      " [0.58139535]\n",
      " [0.57209302]\n",
      " [0.53488372]\n",
      " [0.54418605]\n",
      " [0.55813953]\n",
      " [0.5627907 ]\n",
      " [0.59069767]\n",
      " [0.55348837]\n",
      " [0.62325581]\n",
      " [0.71162791]\n",
      " [0.73953488]\n",
      " [0.76744186]\n",
      " [0.74883721]\n",
      " [0.70697674]\n",
      " [0.65581395]\n",
      " [0.6372093 ]\n",
      " [0.6744186 ]\n",
      " [0.6744186 ]\n",
      " [0.67906977]\n",
      " [0.66976744]\n",
      " [0.64186047]\n",
      " [0.66976744]\n",
      " [0.60930233]\n",
      " [0.6       ]\n",
      " [0.61860465]\n",
      " [0.65116279]\n",
      " [0.62325581]\n",
      " [0.58604651]\n",
      " [0.56744186]\n",
      " [0.55813953]\n",
      " [0.56744186]\n",
      " [0.60930233]\n",
      " [0.59534884]\n",
      " [0.57674419]\n",
      " [0.6372093 ]\n",
      " [0.54418605]\n",
      " [0.48837209]\n",
      " [0.41860465]\n",
      " [0.49302326]\n",
      " [0.46976744]\n",
      " [0.46976744]\n",
      " [0.46511628]\n",
      " [0.49302326]\n",
      " [0.4744186 ]\n",
      " [0.48372093]\n",
      " [0.47906977]\n",
      " [0.46976744]\n",
      " [0.49302326]\n",
      " [0.51162791]\n",
      " [0.51627907]\n",
      " [0.5255814 ]\n",
      " [0.61860465]\n",
      " [0.59069767]\n",
      " [0.57674419]\n",
      " [0.57674419]\n",
      " [0.53953488]\n",
      " [0.53488372]\n",
      " [0.53488372]\n",
      " [0.51162791]\n",
      " [0.53023256]\n",
      " [0.57209302]\n",
      " [0.53023256]\n",
      " [0.51162791]\n",
      " [0.48372093]\n",
      " [0.48837209]\n",
      " [0.49302326]\n",
      " [0.54418605]\n",
      " [0.5627907 ]\n",
      " [0.57674419]\n",
      " [0.53488372]\n",
      " [0.52093023]\n",
      " [0.49302326]\n",
      " [0.48837209]\n",
      " [0.50697674]\n",
      " [0.54418605]\n",
      " [0.5255814 ]\n",
      " [0.48372093]\n",
      " [0.46046512]\n",
      " [0.4744186 ]\n",
      " [0.47906977]\n",
      " [0.46511628]\n",
      " [0.51627907]\n",
      " [0.47906977]\n",
      " [0.44186047]\n",
      " [0.44186047]\n",
      " [0.41860465]\n",
      " [0.4744186 ]\n",
      " [0.45581395]\n",
      " [0.43255814]\n",
      " [0.41860465]\n",
      " [0.45116279]\n",
      " [0.44186047]\n",
      " [0.41860465]\n",
      " [0.45581395]\n",
      " [0.55348837]\n",
      " [0.62325581]\n",
      " [0.58604651]\n",
      " [0.55813953]\n",
      " [0.55813953]\n",
      " [0.49767442]\n",
      " [0.41860465]]\n"
     ]
    }
   ],
   "source": [
    "print(train_pos_sc)"
   ]
  },
  {
   "cell_type": "code",
   "execution_count": 10,
   "id": "df39a0de",
   "metadata": {},
   "outputs": [],
   "source": [
    "# time_step: 필요한 과거 데이터 수\n",
    "def create_RNN_stock(data,time_step):\n",
    "    X = []\n",
    "    y = []\n",
    "    for i in range(len(data)-time_step):\n",
    "        # X와 y의 조합을 생성할 수 있는 마지막 index i는\n",
    "        # dataset의 마지막 index - time_step\n",
    "        X.append(data[i:i+time_step,:])\n",
    "        y.append(data[i+time_step,:])\n",
    "    return np.array(X),np.array(y)"
   ]
  },
  {
   "cell_type": "code",
   "execution_count": 16,
   "id": "50b47f88",
   "metadata": {},
   "outputs": [
    {
     "name": "stdout",
     "output_type": "stream",
     "text": [
      "[['d0' 'd1' 'd2' 'd3' 'd4' 'd5']]\n"
     ]
    }
   ],
   "source": [
    "# 5일의 과거 데이터가 필요하기에 sampling 과정에 반영\n",
    "sample = np.array([['d0'],['d1'],['d2'],['d3'],['d4'],['d5']])\n",
    "sample_X, sample_y = create_RNN_stock(sample,5)\n",
    "print(np.concatenate((sample_X.reshape(-1,5),sample_y.reshape(-1,1)),axis=1))"
   ]
  },
  {
   "cell_type": "code",
   "execution_count": 17,
   "id": "fb0baa1c",
   "metadata": {},
   "outputs": [],
   "source": [
    "look_back = 5\n",
    "Xsc_train,ysc_train = create_RNN_stock(train_pos_sc,look_back)\n",
    "Xsc_test,ysc_test = create_RNN_stock(sc.transform(test_pos),look_back)"
   ]
  },
  {
   "cell_type": "code",
   "execution_count": 18,
   "id": "7e778758",
   "metadata": {},
   "outputs": [
    {
     "name": "stdout",
     "output_type": "stream",
     "text": [
      "(168, 5, 1) (70, 5, 1)\n",
      "(168, 1) (70, 1)\n"
     ]
    }
   ],
   "source": [
    "print(Xsc_train.shape,Xsc_test.shape)\n",
    "# shape = (sample의 수, time_step, X 특징의 수)\n",
    "print(ysc_train.shape,ysc_test.shape)\n",
    "# shape = (sample의 수, y 특징의 수)"
   ]
  },
  {
   "cell_type": "code",
   "execution_count": 20,
   "id": "e02aed8d",
   "metadata": {},
   "outputs": [
    {
     "name": "stdout",
     "output_type": "stream",
     "text": [
      "[[0.6372093  0.58604651 0.60930233 0.59069767 0.58139535 0.58139535]\n",
      " [0.58604651 0.60930233 0.59069767 0.58139535 0.58139535 0.73488372]\n",
      " [0.60930233 0.59069767 0.58139535 0.58139535 0.73488372 0.60465116]\n",
      " [0.59069767 0.58139535 0.58139535 0.73488372 0.60465116 0.65581395]\n",
      " [0.58139535 0.58139535 0.73488372 0.60465116 0.65581395 0.6744186 ]]\n"
     ]
    }
   ],
   "source": [
    "# 데이터 검토\n",
    "# 5일간의 데이터 이기에 reshape 에 대입\n",
    "print(np.concatenate((Xsc_train[50:55,].reshape(-1,5),ysc_train[50:55,:]),axis=1))\n",
    "# 이전 step의 y가 다음 step의 X의 원소로 포함됨"
   ]
  },
  {
   "cell_type": "code",
   "execution_count": 21,
   "id": "ec949f90",
   "metadata": {},
   "outputs": [],
   "source": [
    "# tensorflow RNN형식에 맞춘 shape\n",
    "# input_shape = (sample의 수, X 특징의 수, time_step)\n",
    "# 현재 X_train = (sample의 수, time_step, X 특징의 수)\n",
    "\n",
    "train_num = Xsc_train.shape[0]\n",
    "test_num = Xsc_test.shape[0]\n",
    "\n",
    "features = Xsc_train.shape[2]\n",
    "time_step = look_back\n",
    "# or time_step = X_train.shape[1]\n",
    "Xsc_train_RNN = Xsc_train.reshape(train_num,features,time_step)\n",
    "Xsc_test_RNN = Xsc_test.reshape(test_num,features,time_step)"
   ]
  },
  {
   "cell_type": "code",
   "execution_count": 22,
   "id": "04cd647a",
   "metadata": {},
   "outputs": [
    {
     "name": "stdout",
     "output_type": "stream",
     "text": [
      "WARNING:tensorflow:From C:\\ProgramData\\anaconda3\\Lib\\site-packages\\keras\\src\\layers\\rnn\\simple_rnn.py:130: The name tf.executing_eagerly_outside_functions is deprecated. Please use tf.compat.v1.executing_eagerly_outside_functions instead.\n",
      "\n"
     ]
    }
   ],
   "source": [
    "RNN_model = Sequential([\n",
    "    SimpleRNN(5,input_shape=(features,time_step),activation='tanh'),\n",
    "    # 첫번째 layer → 두번째 layer(memory cell(hidden layer))\n",
    "    # SimpleRNN(hidden layer node의 수, input_shape, activation)\n",
    "    # input_shape = (X특징의 수, time_step)\n",
    "    # RNN의 activation은 일반적으로 tanh를 사용함 (default가 tanh이므로 생략 가능)\n",
    "    Dense(1,activation='linear')\n",
    "    # 두번째 layer → 세번째 layer(output layer)\n",
    "    # output layer node의 수는 1 (하나의 y를 예측)\n",
    "    # regression의 경우, output layer의 activation function은 linear\n",
    "])"
   ]
  },
  {
   "cell_type": "code",
   "execution_count": 23,
   "id": "da897baf",
   "metadata": {},
   "outputs": [
    {
     "name": "stdout",
     "output_type": "stream",
     "text": [
      "Model: \"sequential\"\n",
      "_________________________________________________________________\n",
      " Layer (type)                Output Shape              Param #   \n",
      "=================================================================\n",
      " simple_rnn (SimpleRNN)      (None, 5)                 55        \n",
      "                                                                 \n",
      " dense (Dense)               (None, 1)                 6         \n",
      "                                                                 \n",
      "=================================================================\n",
      "Total params: 61 (244.00 Byte)\n",
      "Trainable params: 61 (244.00 Byte)\n",
      "Non-trainable params: 0 (0.00 Byte)\n",
      "_________________________________________________________________\n"
     ]
    }
   ],
   "source": [
    "RNN_model.summary()\n",
    "# 학습 모델 내용"
   ]
  },
  {
   "cell_type": "code",
   "execution_count": 24,
   "id": "121e4e99",
   "metadata": {},
   "outputs": [
    {
     "name": "stdout",
     "output_type": "stream",
     "text": [
      "WARNING:tensorflow:From C:\\ProgramData\\anaconda3\\Lib\\site-packages\\keras\\src\\optimizers\\__init__.py:309: The name tf.train.Optimizer is deprecated. Please use tf.compat.v1.train.Optimizer instead.\n",
      "\n"
     ]
    }
   ],
   "source": [
    "RNN_model.compile(optimizer='adam',loss='mse')\n",
    "# regression의 경우 주로 loss를 mse로 설정함"
   ]
  },
  {
   "cell_type": "code",
   "execution_count": 25,
   "id": "0d1d1da5",
   "metadata": {},
   "outputs": [
    {
     "name": "stdout",
     "output_type": "stream",
     "text": [
      "(168, 1, 5)\n",
      "(168, 1)\n"
     ]
    }
   ],
   "source": [
    "print(Xsc_train_RNN.shape)\n",
    "print(ysc_train.shape)"
   ]
  },
  {
   "cell_type": "code",
   "execution_count": 26,
   "id": "1fd846cd",
   "metadata": {},
   "outputs": [
    {
     "name": "stdout",
     "output_type": "stream",
     "text": [
      "Epoch 1/10\n",
      "WARNING:tensorflow:From C:\\ProgramData\\anaconda3\\Lib\\site-packages\\keras\\src\\utils\\tf_utils.py:492: The name tf.ragged.RaggedTensorValue is deprecated. Please use tf.compat.v1.ragged.RaggedTensorValue instead.\n",
      "\n",
      "168/168 [==============================] - 1s 788us/step - loss: 0.0393\n",
      "Epoch 2/10\n",
      "168/168 [==============================] - 0s 758us/step - loss: 0.0148\n",
      "Epoch 3/10\n",
      "168/168 [==============================] - 0s 764us/step - loss: 0.0147\n",
      "Epoch 4/10\n",
      "168/168 [==============================] - 0s 764us/step - loss: 0.0126\n",
      "Epoch 5/10\n",
      "168/168 [==============================] - 0s 758us/step - loss: 0.0126\n",
      "Epoch 6/10\n",
      "168/168 [==============================] - 0s 770us/step - loss: 0.0113\n",
      "Epoch 7/10\n",
      "168/168 [==============================] - 0s 764us/step - loss: 0.0107\n",
      "Epoch 8/10\n",
      "168/168 [==============================] - 0s 764us/step - loss: 0.0097\n",
      "Epoch 9/10\n",
      "168/168 [==============================] - 0s 764us/step - loss: 0.0091\n",
      "Epoch 10/10\n",
      "168/168 [==============================] - 0s 764us/step - loss: 0.0085\n"
     ]
    },
    {
     "data": {
      "text/plain": [
       "<keras.src.callbacks.History at 0x1f93a53f950>"
      ]
     },
     "execution_count": 26,
     "metadata": {},
     "output_type": "execute_result"
    }
   ],
   "source": [
    "RNN_model.fit(Xsc_train_RNN,ysc_train,epochs=10,batch_size=1)\n",
    "# 모델 학습"
   ]
  },
  {
   "cell_type": "code",
   "execution_count": 27,
   "id": "b46caa4f",
   "metadata": {},
   "outputs": [
    {
     "name": "stdout",
     "output_type": "stream",
     "text": [
      "6/6 [==============================] - 0s 798us/step\n",
      "3/3 [==============================] - 0s 499us/step\n"
     ]
    }
   ],
   "source": [
    "ysc_train_pred = RNN_model.predict(Xsc_train_RNN)\n",
    "ysc_test_pred = RNN_model.predict(Xsc_test_RNN)"
   ]
  },
  {
   "cell_type": "code",
   "execution_count": 28,
   "id": "b12ab0b0",
   "metadata": {},
   "outputs": [],
   "source": [
    "y_train_pred = sc.inverse_transform(ysc_train_pred)\n",
    "y_test_pred = sc.inverse_transform(ysc_test_pred)"
   ]
  },
  {
   "cell_type": "code",
   "execution_count": 29,
   "id": "365a89b2",
   "metadata": {},
   "outputs": [
    {
     "name": "stdout",
     "output_type": "stream",
     "text": [
      "[82437.73] [0.60175484]\n"
     ]
    }
   ],
   "source": [
    "# scale 전후 데이터 비교\n",
    "print(y_train_pred[50],ysc_train_pred[50])"
   ]
  },
  {
   "cell_type": "code",
   "execution_count": 30,
   "id": "40b31f6d",
   "metadata": {},
   "outputs": [
    {
     "data": {
      "image/png": "[encoded data removed]",
      "text/plain": [
       "<Figure size 400x300 with 1 Axes>"
      ]
     },
     "metadata": {},
     "output_type": "display_data"
    }
   ],
   "source": [
    "plt.figure(figsize=(4,3))\n",
    "plt.plot(pos,linewidth=5,color='gray',alpha=0.5,label='confirmed')\n",
    "# training index: 첫 time step만큼의 value는 없음\n",
    "tr_ind = range(time_step,time_step+len(y_train_pred))\n",
    "plt.plot(tr_ind,y_train_pred,color='green',label='prediction(training data)')\n",
    "# test index: training의 마지막 index + time_step에서 시작\n",
    "te_ind = range(time_step+len(y_train_pred)+time_step,len(pos))\n",
    "plt.plot(te_ind,y_test_pred,color='red',label='prediction(test data)')\n",
    "\n",
    "plt.legend()\n",
    "plt.grid()"
   ]
  },
  {
   "cell_type": "code",
   "execution_count": null,
   "id": "9a6e0373",
   "metadata": {},
   "outputs": [],
   "source": []
  }
 ],
 "metadata": {
  "kernelspec": {
   "display_name": "Python 3 (ipykernel)",
   "language": "python",
   "name": "python3"
  },
  "language_info": {
   "codemirror_mode": {
    "name": "ipython",
    "version": 3
   },
   "file_extension": ".py",
   "mimetype": "text/x-python",
   "name": "python",
   "nbconvert_exporter": "python",
   "pygments_lexer": "ipython3",
   "version": "3.9.12"
  }
 },
 "nbformat": 4,
 "nbformat_minor": 5
}
